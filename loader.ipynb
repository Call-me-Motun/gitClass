{
 "cells": [
  {
   "cell_type": "code",
   "execution_count": 8,
   "id": "3ecfa4ca",
   "metadata": {},
   "outputs": [
    {
     "name": "stdout",
     "output_type": "stream",
     "text": [
      "Welcome to my World!\n"
     ]
    }
   ],
   "source": [
    "import time\n",
    "time.sleep(.7)\n",
    "print(\".\", end=\"\")\n",
    "time.sleep(.7)\n",
    "print(\".\",end=\"\")\n",
    "time.sleep(.7)\n",
    "print(\".\",end=\"\")\n",
    "time.sleep(.7)\n",
    "print(\"\\b\",end=\"\")\n",
    "time.sleep(.7)\n",
    "print(\"\\b\",end=\"\")\n",
    "time.sleep(.7)\n",
    "print(\"\\b\",end=\"\")\n",
    "print(\".\", end=\"\")\n",
    "time.sleep(.7)\n",
    "print(\".\",end=\"\")\n",
    "time.sleep(.7)\n",
    "print(\".\",end=\"\")\n",
    "time.sleep(.7)\n",
    "print(\"\\b\",end=\"\")\n",
    "time.sleep(.7)\n",
    "print(\"\\b\",end=\"\")\n",
    "time.sleep(.7)\n",
    "print(\"\\b\",end=\"\")\n",
    "print(\"Welcome to my domain!\")"
   ]
  },
  {
   "cell_type": "code",
   "execution_count": null,
   "id": "2c7390a4",
   "metadata": {},
   "outputs": [],
   "source": []
  }
 ],
 "metadata": {
  "kernelspec": {
   "display_name": "Python 3 (ipykernel)",
   "language": "python",
   "name": "python3"
  },
  "language_info": {
   "codemirror_mode": {
    "name": "ipython",
    "version": 3
   },
   "file_extension": ".py",
   "mimetype": "text/x-python",
   "name": "python",
   "nbconvert_exporter": "python",
   "pygments_lexer": "ipython3",
   "version": "3.11.4"
  }
 },
 "nbformat": 4,
 "nbformat_minor": 5
}
